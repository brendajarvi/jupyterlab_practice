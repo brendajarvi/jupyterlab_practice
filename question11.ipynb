{
 "cells": [
  {
   "cell_type": "markdown",
   "id": "9120c8e5-6cc0-4fbd-a7bf-5a0aaf738ef3",
   "metadata": {},
   "source": [
    "# Brenda Jarvi #\n",
    "Notebook for assignment 7"
   ]
  },
  {
   "cell_type": "code",
   "execution_count": 13,
   "id": "0ed8d91b-f807-439e-8303-7a417adedf26",
   "metadata": {},
   "outputs": [],
   "source": [
    "import numpy as np\n",
    "import pandas as pd"
   ]
  },
  {
   "cell_type": "code",
   "execution_count": 24,
   "id": "9eee4be3-2c77-4f00-b71b-dce562b06874",
   "metadata": {},
   "outputs": [
    {
     "data": {
      "text/plain": [
       "np.float64(5.0)"
      ]
     },
     "execution_count": 24,
     "metadata": {},
     "output_type": "execute_result"
    }
   ],
   "source": [
    "compute_mean = np.mean\n",
    "\n",
    "compute_mean([2, 4, 6, 8])"
   ]
  },
  {
   "cell_type": "markdown",
   "id": "d6ef9ffb-f9cd-4f18-a775-3cd974c56ba4",
   "metadata": {},
   "source": [
    "$ \\overline{x} = \\frac{x_1+x_2+...+x_n}{n} = \\frac{1}{n}(\\sum_{i=1}^{n}x_i)$"
   ]
  }
 ],
 "metadata": {
  "kernelspec": {
   "display_name": "Python 3 (ipykernel)",
   "language": "python",
   "name": "python3"
  },
  "language_info": {
   "codemirror_mode": {
    "name": "ipython",
    "version": 3
   },
   "file_extension": ".py",
   "mimetype": "text/x-python",
   "name": "python",
   "nbconvert_exporter": "python",
   "pygments_lexer": "ipython3",
   "version": "3.12.2"
  }
 },
 "nbformat": 4,
 "nbformat_minor": 5
}
